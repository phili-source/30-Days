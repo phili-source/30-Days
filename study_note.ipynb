{
 "cells": [
  {
   "cell_type": "code",
   "execution_count": 2,
   "id": "9e74a885-479a-46fe-a253-a6b74576fc4c",
   "metadata": {},
   "outputs": [],
   "source": [
    "from IPython.core.interactiveshell import InteractiveShell\n",
    "InteractiveShell.ast_node_interactivity = \"all\""
   ]
  },
  {
   "cell_type": "markdown",
   "id": "1be5357f-aec5-409b-ac4a-2163d13fa4f6",
   "metadata": {},
   "source": [
    "## basic Python"
   ]
  },
  {
   "cell_type": "markdown",
   "id": "f939b1a9-933f-4731-98fc-5668c76ec4ec",
   "metadata": {},
   "source": [
    "Python is a *high-level* programming language for **general-purpose programming**. Python is an *open source*, *interpretedd*, *objected-oriented* programming language.\n",
    "\n",
    "Python is highly embraced language in the **data science** and **machine learning** community."
   ]
  },
  {
   "cell_type": "markdown",
   "id": "39574667-2efb-4198-9b59-b15304562ae9",
   "metadata": {},
   "source": [
    "The process of identifying and removing errors from a program is called *debugging*."
   ]
  },
  {
   "cell_type": "code",
   "execution_count": 3,
   "id": "baad64b0-a4d8-4b41-a038-ca152eec352c",
   "metadata": {},
   "outputs": [
    {
     "data": {
      "text/plain": [
       "1"
      ]
     },
     "execution_count": 3,
     "metadata": {},
     "output_type": "execute_result"
    },
    {
     "data": {
      "text/plain": [
       "1"
      ]
     },
     "execution_count": 3,
     "metadata": {},
     "output_type": "execute_result"
    }
   ],
   "source": [
    "3 % 2  # modulus, which means finding the remainder\n",
    "3 // 2  # floor division, which means removing the remainder"
   ]
  },
  {
   "cell_type": "markdown",
   "id": "e90a4732-299e-4bbe-adc6-1daedb7d1362",
   "metadata": {},
   "source": [
    "An **indentation** is a white space in a text. Python uses indentation to create block of codes.\n",
    "\n",
    "Tripple quote can be used for multiline comment if it is not assigned to a variable:\n",
    "\n",
    "```Python\n",
    "\"\"\"This is multiline comment\n",
    "multiline comment takes multiple lines.\n",
    "python is eating the world\n",
    "\"\"\"\n",
    "```"
   ]
  },
  {
   "cell_type": "markdown",
   "id": "20db68b4-dd41-4a50-afe3-de611ed109fb",
   "metadata": {},
   "source": [
    "### Data types"
   ]
  },
  {
   "cell_type": "markdown",
   "id": "0b9ac7d1-188d-4f92-8b08-002f01eb6a7d",
   "metadata": {},
   "source": [
    "**Number**:\n",
    "- Integer(negative, zero and positive): -1, 0, 1\n",
    "- Float: -3.14, -1.0, 0.0, 1.1\n",
    "- Complex: 1+j, 2+4j"
   ]
  },
  {
   "cell_type": "markdown",
   "id": "d38470c7-86c9-4819-abaf-c0143d98617e",
   "metadata": {},
   "source": [
    "**String**:\n",
    "```Python\n",
    "'Finland'\n",
    "\"Python\"\n",
    "\"\"\"Apple is good.\n",
    "I like apple.\n",
    "\"\"\"\n",
    "```"
   ]
  },
  {
   "cell_type": "markdown",
   "id": "ffde9110-0aa7-4e97-8072-6397eadb5425",
   "metadata": {},
   "source": [
    "**Boolean**:\n",
    "```Python\n",
    "    True  #  Is the light on? If it is on, then the value is True\n",
    "    False # Is the light on? If it is off, then the value is False\n",
    "```"
   ]
  },
  {
   "cell_type": "markdown",
   "id": "cbb69830-aa08-499a-ae3f-4858d7daed3e",
   "metadata": {},
   "source": [
    "**List**:\n",
    "Python list is an ordered collection which allows to store different data type items.\n",
    "```Pyton\n",
    "[0, 1, 2]\n",
    "['Banana', 'Orange', 'Mango', 'Avocado'] # all the same data types - a list of strings (fruits)\n",
    "['Finland','Estonia', 'Sweden','Norway'] # all the same data types - a list of strings (countries)\n",
    "['Banana', 10, False, 9.81] # different data types in the list - string, integer, boolean and float\n",
    "```"
   ]
  },
  {
   "cell_type": "markdown",
   "id": "24004589-8277-4e48-857c-4868cb1f5d98",
   "metadata": {},
   "source": [
    "**Dictionary**:\n",
    "A Python dictionary object is an unordered collection of data in a key value pair format.\n",
    "```Python\n",
    "{\n",
    "'first_name':'Yunxin',\n",
    "'last_name':'Wen',\n",
    "'country':'China', \n",
    "'age':34, \n",
    "'is_married':False,\n",
    "'skills':['Writing', 'Thinking', 'Learning', 'Python']\n",
    "}\n",
    "```"
   ]
  },
  {
   "cell_type": "markdown",
   "id": "54946519-3fa3-44d8-951a-336ad1554132",
   "metadata": {},
   "source": [
    "**Tuple**:\n",
    "A tuple is an ordered collection of different data types like list but tuples can not be modified once they are created. They are immutable.\n",
    "```Python\n",
    "('Zhao', 'Qian', 'Sun', 'Li')\n",
    "```"
   ]
  },
  {
   "cell_type": "markdown",
   "id": "e74917cf-94d8-45ec-b2da-1e897e2fd3b2",
   "metadata": {},
   "source": [
    "**Set**:\n",
    "A set is a collection of data types similar to list and tuple. Unlike list and tuple, set is not an ordered collection of items. Like in Mathematics, set in Python stores only unique items.\n",
    "```Python\n",
    "{2, 3, 4}\n",
    "{3.14, 9.2}\n",
    "```"
   ]
  },
  {
   "cell_type": "code",
   "execution_count": 4,
   "id": "50647cec-06c9-4212-aeaa-ba7cc80f97dc",
   "metadata": {},
   "outputs": [
    {
     "data": {
      "text/plain": [
       "int"
      ]
     },
     "execution_count": 4,
     "metadata": {},
     "output_type": "execute_result"
    },
    {
     "data": {
      "text/plain": [
       "float"
      ]
     },
     "execution_count": 4,
     "metadata": {},
     "output_type": "execute_result"
    },
    {
     "data": {
      "text/plain": [
       "complex"
      ]
     },
     "execution_count": 4,
     "metadata": {},
     "output_type": "execute_result"
    },
    {
     "data": {
      "text/plain": [
       "str"
      ]
     },
     "execution_count": 4,
     "metadata": {},
     "output_type": "execute_result"
    },
    {
     "data": {
      "text/plain": [
       "list"
      ]
     },
     "execution_count": 4,
     "metadata": {},
     "output_type": "execute_result"
    },
    {
     "data": {
      "text/plain": [
       "dict"
      ]
     },
     "execution_count": 4,
     "metadata": {},
     "output_type": "execute_result"
    },
    {
     "data": {
      "text/plain": [
       "tuple"
      ]
     },
     "execution_count": 4,
     "metadata": {},
     "output_type": "execute_result"
    },
    {
     "data": {
      "text/plain": [
       "set"
      ]
     },
     "execution_count": 4,
     "metadata": {},
     "output_type": "execute_result"
    }
   ],
   "source": [
    "# check data types\n",
    "type(10)  # int\n",
    "type(3.14)  # float\n",
    "type(1 + 3j)  # complex\n",
    "type('Yunxin')  # string\n",
    "type([1, 2, 3])  # list\n",
    "type({'id': 9527})  # dictionary\n",
    "type((2,))  # tuple\n",
    "type({9.3})  # set"
   ]
  },
  {
   "cell_type": "markdown",
   "id": "60346b30-88ef-4ea3-8c0d-7717e941d3ab",
   "metadata": {},
   "source": [
    "## Variables, Builtin Functions"
   ]
  },
  {
   "cell_type": "code",
   "execution_count": null,
   "id": "faf338a8-2f03-466b-bc2c-b4e4804da0f6",
   "metadata": {},
   "outputs": [],
   "source": []
  }
 ],
 "metadata": {
  "kernelspec": {
   "display_name": "Python 3 (ipykernel)",
   "language": "python",
   "name": "python3"
  },
  "language_info": {
   "codemirror_mode": {
    "name": "ipython",
    "version": 3
   },
   "file_extension": ".py",
   "mimetype": "text/x-python",
   "name": "python",
   "nbconvert_exporter": "python",
   "pygments_lexer": "ipython3",
   "version": "3.12.4"
  }
 },
 "nbformat": 4,
 "nbformat_minor": 5
}
